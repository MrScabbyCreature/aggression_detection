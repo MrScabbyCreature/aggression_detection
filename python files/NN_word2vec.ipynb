{
 "cells": [
  {
   "cell_type": "markdown",
   "metadata": {},
   "source": [
    "# IMPORTS"
   ]
  },
  {
   "cell_type": "code",
   "execution_count": 2,
   "metadata": {},
   "outputs": [],
   "source": [
    "import numpy as np\n",
    "from sklearn.svm import SVC\n",
    "from sklearn.neural_network import MLPClassifier\n",
    "import pickle\n",
    "from multiprocessing import Process\n",
    "from multiprocessing import Pool\n",
    "import os\n",
    "import pandas as pd\n",
    "from gensim.models import Word2Vec\n",
    "from nltk import TweetTokenizer\n",
    "from sklearn.utils import shuffle\n",
    "from sklearn.feature_extraction.text import TfidfVectorizer, CountVectorizer, TfidfTransformer\n",
    "from sklearn.metrics import confusion_matrix, accuracy_score, f1_score, precision_score, recall_score\n",
    "from gensim.models.keyedvectors import KeyedVectors\n",
    "from lda import LDA"
   ]
  },
  {
   "cell_type": "markdown",
   "metadata": {},
   "source": [
    "# DATA RETRIEVAL"
   ]
  },
  {
   "cell_type": "code",
   "execution_count": 3,
   "metadata": {},
   "outputs": [
    {
     "name": "stderr",
     "output_type": "stream",
     "text": [
      "/opt/anaconda/lib/python3.5/site-packages/ipykernel_launcher.py:26: DeprecationWarning: Call to deprecated `wv` (Attribute will be removed in 4.0.0, use self instead).\n"
     ]
    }
   ],
   "source": [
    "#string to number for class\n",
    "dic_aggression_level = {\n",
    "    'NAG' : 1,\n",
    "    'CAG' : 2,\n",
    "    'OAG' : 3\n",
    "}\n",
    "\n",
    "#train data\n",
    "train_pd = shuffle(pd.concat((pd.read_csv(\"train.csv\")[['Data', 'Label']], pd.read_csv(\"valid.csv\")[['Data', 'Label']])), random_state=20)\n",
    "train_pd['Label_num'] = train_pd.Label.map(dic_aggression_level)\n",
    "\n",
    "#test data\n",
    "test_fb_pd = shuffle(pd.read_csv(\"test_fb.csv\")[['Data', 'Label']], random_state=20)\n",
    "test_fb_pd['Label_num'] = test_fb_pd.Label.map(dic_aggression_level)\n",
    "test_tw_pd = shuffle(pd.read_csv(\"test_tw.csv\")[['Data', 'Label']], random_state=20)\n",
    "test_tw_pd['Label_num'] = test_tw_pd.Label.map(dic_aggression_level)\n",
    "\n",
    "#tokenizer for word2vec\n",
    "tokenizer = TweetTokenizer()\n",
    "def create_tokens(x):\n",
    "    return tokenizer.tokenize(x.lower())\n",
    "\n",
    "# word2vec_model = Word2Vec(list(map(create_tokens, train_pd['Data'])), size=100, window=5, min_count=3, workers=50)\n",
    "# glove_model = KeyedVectors.load_word2vec_format(\"gensim_glove_vectors.txt\", binary=False)\n",
    "word2vec_model = KeyedVectors.load(\"glove.twitter.27B/glove.twitter.27B.200d.txt.vector.bin\")\n",
    "vocabulary = set(word2vec_model.wv.vocab.keys())\n",
    "\n",
    "tfidf_model = TfidfVectorizer(vocabulary=vocabulary, tokenizer=create_tokens)\n",
    "tfidf_model.fit(train_pd['Data'])\n",
    "tfidf_values = tfidf_model.transform([\" \".join(vocabulary)]).toarray()[0]"
   ]
  },
  {
   "cell_type": "markdown",
   "metadata": {},
   "source": [
    "# GENERATE DATA MATRIX"
   ]
  },
  {
   "cell_type": "code",
   "execution_count": 4,
   "metadata": {},
   "outputs": [
    {
     "name": "stdout",
     "output_type": "stream",
     "text": [
      "(15001, 200) (15001,) (916, 200) (916,) (1257, 200) (1257,)\n"
     ]
    }
   ],
   "source": [
    "def vectorise_sentence(sentence, method='avg'):\n",
    "    global tokenizer\n",
    "    tokens = tokenizer.tokenize(sentence)\n",
    "    #addition\n",
    "    if method=='add':\n",
    "        vector = np.array([0]*word2vec_model['hate'].shape[0])\n",
    "        for token in tokens:\n",
    "            if token in vocabulary:\n",
    "                vector = vector + word2vec_model[token]\n",
    "        return vector \n",
    "    #average\n",
    "    if method=='avg':\n",
    "        vector = np.array([0]*word2vec_model['hate'].shape[0])\n",
    "        count = 0\n",
    "        for token in tokens:\n",
    "            if token in vocabulary:\n",
    "                vector = vector + word2vec_model[token]\n",
    "                count += 1\n",
    "        if count != 0:\n",
    "            vector = vector / count\n",
    "        return vector \n",
    "    #Average of Word2Vec vectors with TF-IDF : this is one of the best approach which I will recommend. \n",
    "    #Just take the word vectors and multiply it with their TF-IDF scores. Just take the average and it \n",
    "    #will represent your sentence vector.\n",
    "    if method=='tfidf':\n",
    "        vector = np.array([0]*word2vec_model['hate'].shape[0])\n",
    "        count = 0\n",
    "        for token in tokens:\n",
    "            if token in vocabulary:\n",
    "                vector = vector + (word2vec_model[token]*tfidf_values[tfidf_model.vocabulary_[token]])\n",
    "                count += tfidf_values[tfidf_model.vocabulary_[token]]\n",
    "        if count != 0:\n",
    "            vector = vector / count\n",
    "        return vector\n",
    "\n",
    "method = 'tfidf'\n",
    "X_train = np.array([vectorise_sentence(sentence, method) for sentence in train_pd['Data']])\n",
    "y_train = np.array(train_pd['Label_num'])\n",
    "X_fb_test = np.array([vectorise_sentence(sentence, method) for sentence in test_fb_pd['Data']])\n",
    "y_fb_test = np.array(test_fb_pd['Label_num'])\n",
    "X_tw_test = np.array([vectorise_sentence(sentence, method) for sentence in test_tw_pd['Data']])\n",
    "y_tw_test = np.array(test_tw_pd['Label_num'])\n",
    "print(X_train.shape, y_train.shape, X_fb_test.shape, y_fb_test.shape, X_tw_test.shape, y_tw_test.shape)"
   ]
  },
  {
   "cell_type": "markdown",
   "metadata": {},
   "source": [
    "# POS TAGGING"
   ]
  },
  {
   "cell_type": "code",
   "execution_count": 5,
   "metadata": {},
   "outputs": [
    {
     "name": "stdout",
     "output_type": "stream",
     "text": [
      "Finished tokenising\n",
      "Finished removing stop words\n",
      "Finished stemming\n",
      "Finished POS tagging\n",
      "Finished recombining\n",
      "(15001, 233) (15001,) (916, 233) (916,) (1257, 233) (1257,)\n",
      "CPU times: user 1.55 s, sys: 5.96 s, total: 7.5 s\n",
      "Wall time: 9.17 s\n",
      "Parser   : 168 ms\n"
     ]
    }
   ],
   "source": [
    "%%time\n",
    "from multiprocessing import Pool\n",
    "\n",
    "#tokenize\n",
    "from nltk.tokenize import TweetTokenizer\n",
    "tweeter = TweetTokenizer()\n",
    "process_pool = Pool(processes=55)\n",
    "pos_train = list(process_pool.map(tweeter.tokenize, train_pd['Data']))\n",
    "pos_fb_test  = list(process_pool.map(tweeter.tokenize, test_fb_pd['Data']))\n",
    "pos_tw_test  = list(process_pool.map(tweeter.tokenize, test_tw_pd['Data']))\n",
    "process_pool.close()\n",
    "print(\"Finished tokenising\")\n",
    "\n",
    "#remove stop words\n",
    "from nltk.corpus import stopwords\n",
    "stop_words = set(stopwords.words('english'))\n",
    "def f(x):\n",
    "    return tuple(filter(lambda y: y not in stop_words, x))\n",
    "process_pool = Pool(processes=55)\n",
    "pos_train = list(process_pool.map(f, pos_train))\n",
    "pos_fb_test = list(process_pool.map(f , pos_fb_test))\n",
    "pos_tw_test = list(process_pool.map(f , pos_tw_test))\n",
    "process_pool.close()\n",
    "print(\"Finished removing stop words\")\n",
    "\n",
    "#stemming\n",
    "from nltk.stem import PorterStemmer\n",
    "ps = PorterStemmer()\n",
    "def f(x):\n",
    "    return tuple(map(ps.stem, x))\n",
    "process_pool = Pool(processes=55)\n",
    "pos_train = list(process_pool.map(f, pos_train))\n",
    "pos_fb_test = list(process_pool.map(f , pos_fb_test))\n",
    "pos_tw_test = list(process_pool.map(f , pos_tw_test))\n",
    "process_pool.close()\n",
    "print(\"Finished stemming\")\n",
    "\n",
    "#POS tagging\n",
    "from nltk import pos_tag\n",
    "process_pool = Pool(processes=55)\n",
    "pos_train = list(process_pool.map(pos_tag, pos_train))\n",
    "pos_fb_test = list(process_pool.map(pos_tag, pos_fb_test))\n",
    "pos_tw_test = list(process_pool.map(pos_tag, pos_tw_test))\n",
    "process_pool.close()\n",
    "print(\"Finished POS tagging\")\n",
    "\n",
    "#recombination\n",
    "# def f(x): #pos concatenation\n",
    "#     return \" \".join(list(map(\"\".join, x)))\n",
    "\n",
    "def f(x): #pos only sentences\n",
    "    return \" \".join(list(map(lambda y: y[1], x)))\n",
    "\n",
    "process_pool = Pool(processes=55)\n",
    "pos_train = list(process_pool.map(f, pos_train))\n",
    "pos_fb_test = list(process_pool.map(f, pos_fb_test))\n",
    "pos_tw_test = list(process_pool.map(f, pos_tw_test))\n",
    "process_pool.close()\n",
    "print(\"Finished recombining\")\n",
    "\n",
    "\n",
    "#create tfidf matrix\n",
    "tfidf = TfidfVectorizer()\n",
    "pos_train = tfidf.fit_transform(pos_train)\n",
    "pos_fb_test = tfidf.transform(pos_fb_test)\n",
    "pos_tw_test = tfidf.transform(pos_tw_test)\n",
    "\n",
    "# print(pos_train[:10], pos_test[:10])\n",
    "# print(pos_train.toarray().shape)\n",
    "\n",
    "X_train = np.hstack((X_train, pos_train.toarray()))\n",
    "X_fb_test = np.hstack((X_fb_test, pos_fb_test.toarray()))\n",
    "X_tw_test = np.hstack((X_tw_test, pos_tw_test.toarray()))\n",
    "print(X_train.shape, y_train.shape, X_fb_test.shape, y_fb_test.shape, X_tw_test.shape, y_tw_test.shape)"
   ]
  },
  {
   "cell_type": "markdown",
   "metadata": {},
   "source": [
    "# LDA"
   ]
  },
  {
   "cell_type": "code",
   "execution_count": 6,
   "metadata": {},
   "outputs": [
    {
     "name": "stderr",
     "output_type": "stream",
     "text": [
      "INFO:lda:n_documents: 15001\n",
      "INFO:lda:vocab_size: 24374\n",
      "INFO:lda:n_words: 354658\n",
      "INFO:lda:n_topics: 150\n",
      "INFO:lda:n_iter: 100\n",
      "WARNING:lda:all zero row in document-term matrix found\n",
      "/home/Abhor/.local/lib/python3.5/site-packages/lda/utils.py:55: FutureWarning: Conversion of the second argument of issubdtype from `int` to `np.signedinteger` is deprecated. In future, it will be treated as `np.int64 == np.dtype(int).type`.\n",
      "  if sparse and not np.issubdtype(doc_word.dtype, int):\n",
      "INFO:lda:<0> log likelihood: -5043427\n",
      "INFO:lda:<10> log likelihood: -3493953\n",
      "INFO:lda:<20> log likelihood: -3323876\n",
      "INFO:lda:<30> log likelihood: -3255379\n",
      "INFO:lda:<40> log likelihood: -3215893\n",
      "INFO:lda:<50> log likelihood: -3192165\n",
      "INFO:lda:<60> log likelihood: -3174183\n",
      "INFO:lda:<70> log likelihood: -3158642\n",
      "INFO:lda:<80> log likelihood: -3150066\n",
      "INFO:lda:<90> log likelihood: -3142863\n",
      "INFO:lda:<99> log likelihood: -3137464\n",
      "WARNING:lda:all zero row in document-term matrix found\n",
      "WARNING:lda:all zero column in document-term matrix found\n",
      "WARNING:lda:all zero row in document-term matrix found\n",
      "WARNING:lda:all zero column in document-term matrix found\n"
     ]
    },
    {
     "name": "stdout",
     "output_type": "stream",
     "text": [
      "(15001, 383) (15001,) (916, 383) (916,) (1257, 383) (1257,)\n",
      "CPU times: user 49.3 s, sys: 32 ms, total: 49.3 s\n",
      "Wall time: 49.3 s\n"
     ]
    }
   ],
   "source": [
    "%%time\n",
    "topics = 150\n",
    "lda_vect = LDA(n_topics=topics, n_iter=100)\n",
    "count_vect = CountVectorizer()\n",
    "\n",
    "count_train = count_vect.fit_transform(train_pd['Data'])\n",
    "lda_train = lda_vect.fit_transform(count_train)\n",
    "X_train = np.hstack((X_train, lda_train))\n",
    "X_fb_test = np.hstack((X_fb_test, lda_vect.transform(count_vect.transform(test_fb_pd['Data']))))\n",
    "X_tw_test = np.hstack((X_tw_test, lda_vect.transform(count_vect.transform(test_tw_pd['Data']))))\n",
    "\n",
    "print(X_train.shape, y_train.shape, X_fb_test.shape, y_fb_test.shape, X_tw_test.shape, y_tw_test.shape)"
   ]
  },
  {
   "cell_type": "markdown",
   "metadata": {},
   "source": [
    "NN :=\n",
    "---"
   ]
  },
  {
   "cell_type": "code",
   "execution_count": 9,
   "metadata": {},
   "outputs": [],
   "source": [
    "max_num = X_train.shape[1]\n",
    "# hidden_layer_sizes = [(max_num//2,), (max_num,), (max_num//2,max_num//2), (max_num,max_num//2), \n",
    "#                       (max_num//2, max_num//2, max_num//2), (max_num//2, max_num, max_num//2)]\n",
    "hidden_layer_sizes = [(max_num//2, max_num//2, max_num//2, max_num//2),\n",
    "                     (max_num//2, max_num, max_num, max_num//2)]\n",
    "activation = ['tanh', 'relu']\n",
    "solver = ['sgd', 'adam']\n",
    "alpha = [10**(-i) for i in range(1, 6, 2)]\n",
    "batch_size = [150, 250]\n",
    "learning_rate = ['adaptive']\n",
    "learning_rate_init = [10**(-i) for i in range(1, 6, 2)]\n",
    "max_iter = [2000]"
   ]
  },
  {
   "cell_type": "code",
   "execution_count": 10,
   "metadata": {},
   "outputs": [
    {
     "name": "stdout",
     "output_type": "stream",
     "text": [
      "Number of models: 144\n"
     ]
    }
   ],
   "source": [
    "NN_list = []\n",
    "for a in max_iter:\n",
    "    for b in learning_rate_init:\n",
    "        for c in learning_rate:\n",
    "            for d in batch_size:\n",
    "                for e in alpha:\n",
    "                    for f in solver:\n",
    "                        for g in activation:\n",
    "                            for h in hidden_layer_sizes:\n",
    "                                \n",
    "                                NN_list.append(\n",
    "                                        MLPClassifier(\n",
    "                                                        hidden_layer_sizes=h,\n",
    "                                                        activation = g,\n",
    "                                                        solver = f,\n",
    "                                                        alpha = e,\n",
    "                                                        batch_size = d,\n",
    "                                                        learning_rate = c,\n",
    "                                                        learning_rate_init = b,\n",
    "                                                        max_iter = a,\n",
    "                                                        early_stopping=True\n",
    "                                                )                                                    \n",
    "                                )\n",
    "\n",
    "no_of_models = len(NN_list)\n",
    "print(\"Number of models:\", no_of_models)"
   ]
  },
  {
   "cell_type": "code",
   "execution_count": null,
   "metadata": {},
   "outputs": [
    {
     "name": "stderr",
     "output_type": "stream",
     "text": [
      "Process ForkPoolWorker-288:\n",
      "Process ForkPoolWorker-278:\n",
      "Process ForkPoolWorker-279:\n",
      "Process ForkPoolWorker-276:\n",
      "Process ForkPoolWorker-281:\n",
      "Process ForkPoolWorker-289:\n",
      "Process ForkPoolWorker-295:\n",
      "Process ForkPoolWorker-308:\n",
      "Process ForkPoolWorker-286:\n",
      "Process ForkPoolWorker-297:\n",
      "Process ForkPoolWorker-298:\n",
      "Process ForkPoolWorker-296:\n",
      "Process ForkPoolWorker-294:\n",
      "Process ForkPoolWorker-301:\n",
      "Process ForkPoolWorker-300:\n",
      "Traceback (most recent call last):\n",
      "Process ForkPoolWorker-306:\n",
      "Process ForkPoolWorker-311:\n",
      "Traceback (most recent call last):\n",
      "Traceback (most recent call last):\n",
      "Process ForkPoolWorker-303:\n",
      "Process ForkPoolWorker-310:\n",
      "Process ForkPoolWorker-307:\n",
      "Traceback (most recent call last):\n",
      "Traceback (most recent call last):\n",
      "Process ForkPoolWorker-302:\n",
      "Process ForkPoolWorker-314:\n",
      "Process ForkPoolWorker-304:\n",
      "Process ForkPoolWorker-305:\n",
      "Process ForkPoolWorker-313:\n",
      "Process ForkPoolWorker-299:\n",
      "Traceback (most recent call last):\n",
      "Process ForkPoolWorker-315:\n",
      "Process ForkPoolWorker-309:\n",
      "  File \"/opt/anaconda/lib/python3.5/multiprocessing/process.py\", line 252, in _bootstrap\n",
      "    self.run()\n",
      "Process ForkPoolWorker-280:\n",
      "Process ForkPoolWorker-287:\n",
      "Process ForkPoolWorker-284:\n",
      "Process ForkPoolWorker-285:\n",
      "Process ForkPoolWorker-283:\n",
      "  File \"/opt/anaconda/lib/python3.5/multiprocessing/process.py\", line 252, in _bootstrap\n",
      "    self.run()\n",
      "  File \"/opt/anaconda/lib/python3.5/multiprocessing/process.py\", line 252, in _bootstrap\n",
      "    self.run()\n",
      "Process ForkPoolWorker-319:\n",
      "Traceback (most recent call last):\n",
      "Traceback (most recent call last):\n",
      "Process ForkPoolWorker-312:\n",
      "Process ForkPoolWorker-320:\n",
      "Process ForkPoolWorker-317:\n",
      "Process ForkPoolWorker-316:\n",
      "Process ForkPoolWorker-277:\n",
      "Traceback (most recent call last):\n",
      "Process ForkPoolWorker-282:\n",
      "  File \"/opt/anaconda/lib/python3.5/multiprocessing/process.py\", line 252, in _bootstrap\n",
      "    self.run()\n",
      "  File \"/opt/anaconda/lib/python3.5/multiprocessing/process.py\", line 252, in _bootstrap\n",
      "    self.run()\n",
      "Process ForkPoolWorker-318:\n",
      "Traceback (most recent call last):\n",
      "Traceback (most recent call last):\n",
      "Traceback (most recent call last):\n",
      "  File \"/opt/anaconda/lib/python3.5/multiprocessing/process.py\", line 252, in _bootstrap\n",
      "    self.run()\n",
      "Traceback (most recent call last):\n",
      "  File \"/opt/anaconda/lib/python3.5/multiprocessing/process.py\", line 93, in run\n",
      "    self._target(*self._args, **self._kwargs)\n",
      "Traceback (most recent call last):\n",
      "Traceback (most recent call last):\n",
      "  File \"/opt/anaconda/lib/python3.5/multiprocessing/process.py\", line 93, in run\n",
      "    self._target(*self._args, **self._kwargs)\n",
      "  File \"/opt/anaconda/lib/python3.5/multiprocessing/process.py\", line 252, in _bootstrap\n",
      "    self.run()\n",
      "  File \"/opt/anaconda/lib/python3.5/multiprocessing/process.py\", line 252, in _bootstrap\n",
      "    self.run()\n",
      "  File \"/opt/anaconda/lib/python3.5/multiprocessing/process.py\", line 93, in run\n",
      "    self._target(*self._args, **self._kwargs)\n",
      "  File \"/opt/anaconda/lib/python3.5/multiprocessing/process.py\", line 252, in _bootstrap\n",
      "    self.run()\n",
      "Traceback (most recent call last):\n",
      "  File \"/opt/anaconda/lib/python3.5/multiprocessing/process.py\", line 93, in run\n",
      "    self._target(*self._args, **self._kwargs)\n",
      "  File \"/opt/anaconda/lib/python3.5/multiprocessing/process.py\", line 252, in _bootstrap\n",
      "    self.run()\n",
      "  File \"/opt/anaconda/lib/python3.5/multiprocessing/process.py\", line 93, in run\n",
      "    self._target(*self._args, **self._kwargs)\n",
      "  File \"/opt/anaconda/lib/python3.5/multiprocessing/process.py\", line 93, in run\n",
      "    self._target(*self._args, **self._kwargs)\n",
      "  File \"/opt/anaconda/lib/python3.5/multiprocessing/process.py\", line 252, in _bootstrap\n",
      "    self.run()\n",
      "  File \"/opt/anaconda/lib/python3.5/multiprocessing/process.py\", line 93, in run\n",
      "    self._target(*self._args, **self._kwargs)\n",
      "  File \"/opt/anaconda/lib/python3.5/multiprocessing/process.py\", line 93, in run\n",
      "    self._target(*self._args, **self._kwargs)\n",
      "  File \"/opt/anaconda/lib/python3.5/multiprocessing/process.py\", line 252, in _bootstrap\n",
      "    self.run()\n",
      "  File \"/opt/anaconda/lib/python3.5/multiprocessing/process.py\", line 252, in _bootstrap\n",
      "    self.run()\n",
      "  File \"/opt/anaconda/lib/python3.5/multiprocessing/pool.py\", line 108, in worker\n",
      "    task = get()\n",
      "  File \"/opt/anaconda/lib/python3.5/multiprocessing/process.py\", line 252, in _bootstrap\n",
      "    self.run()\n",
      "  File \"/opt/anaconda/lib/python3.5/multiprocessing/process.py\", line 93, in run\n",
      "    self._target(*self._args, **self._kwargs)\n",
      "  File \"/opt/anaconda/lib/python3.5/multiprocessing/pool.py\", line 108, in worker\n",
      "    task = get()\n",
      "Traceback (most recent call last):\n",
      "Traceback (most recent call last):\n",
      "  File \"/opt/anaconda/lib/python3.5/multiprocessing/pool.py\", line 108, in worker\n",
      "    task = get()\n",
      "  File \"/opt/anaconda/lib/python3.5/multiprocessing/pool.py\", line 108, in worker\n",
      "    task = get()\n",
      "Traceback (most recent call last):\n",
      "  File \"/opt/anaconda/lib/python3.5/multiprocessing/process.py\", line 93, in run\n",
      "    self._target(*self._args, **self._kwargs)\n",
      "Traceback (most recent call last):\n",
      "  File \"/opt/anaconda/lib/python3.5/multiprocessing/pool.py\", line 108, in worker\n",
      "    task = get()\n",
      "  File \"/opt/anaconda/lib/python3.5/multiprocessing/pool.py\", line 108, in worker\n",
      "    task = get()\n",
      "  File \"/opt/anaconda/lib/python3.5/multiprocessing/pool.py\", line 108, in worker\n",
      "    task = get()\n",
      "Traceback (most recent call last):\n",
      "  File \"/opt/anaconda/lib/python3.5/multiprocessing/process.py\", line 93, in run\n",
      "    self._target(*self._args, **self._kwargs)\n",
      "  File \"/opt/anaconda/lib/python3.5/multiprocessing/pool.py\", line 108, in worker\n",
      "    task = get()\n",
      "  File \"/opt/anaconda/lib/python3.5/multiprocessing/queues.py\", line 337, in get\n",
      "    return ForkingPickler.loads(res)\n",
      "  File \"/opt/anaconda/lib/python3.5/multiprocessing/process.py\", line 93, in run\n",
      "    self._target(*self._args, **self._kwargs)\n",
      "  File \"/opt/anaconda/lib/python3.5/multiprocessing/queues.py\", line 337, in get\n",
      "    return ForkingPickler.loads(res)\n",
      "Traceback (most recent call last):\n",
      "  File \"/opt/anaconda/lib/python3.5/multiprocessing/process.py\", line 93, in run\n",
      "    self._target(*self._args, **self._kwargs)\n",
      "Traceback (most recent call last):\n",
      "  File \"/opt/anaconda/lib/python3.5/multiprocessing/process.py\", line 93, in run\n",
      "    self._target(*self._args, **self._kwargs)\n",
      "  File \"/opt/anaconda/lib/python3.5/multiprocessing/process.py\", line 252, in _bootstrap\n",
      "    self.run()\n",
      "  File \"/opt/anaconda/lib/python3.5/multiprocessing/pool.py\", line 108, in worker\n",
      "    task = get()\n",
      "  File \"/opt/anaconda/lib/python3.5/multiprocessing/process.py\", line 252, in _bootstrap\n",
      "    self.run()\n",
      "Traceback (most recent call last):\n",
      "Traceback (most recent call last):\n",
      "Traceback (most recent call last):\n",
      "  File \"/opt/anaconda/lib/python3.5/multiprocessing/queues.py\", line 337, in get\n",
      "    return ForkingPickler.loads(res)\n",
      "  File \"/opt/anaconda/lib/python3.5/multiprocessing/pool.py\", line 108, in worker\n",
      "    task = get()\n",
      "Traceback (most recent call last):\n",
      "  File \"/opt/anaconda/lib/python3.5/multiprocessing/process.py\", line 252, in _bootstrap\n",
      "    self.run()\n",
      "Traceback (most recent call last):\n",
      "  File \"/opt/anaconda/lib/python3.5/multiprocessing/queues.py\", line 337, in get\n",
      "    return ForkingPickler.loads(res)\n",
      "Traceback (most recent call last):\n",
      "  File \"/opt/anaconda/lib/python3.5/multiprocessing/process.py\", line 252, in _bootstrap\n",
      "    self.run()\n",
      "Traceback (most recent call last):\n",
      "Traceback (most recent call last):\n",
      "Traceback (most recent call last):\n",
      "  File \"/opt/anaconda/lib/python3.5/multiprocessing/process.py\", line 252, in _bootstrap\n",
      "    self.run()\n",
      "Traceback (most recent call last):\n",
      "Traceback (most recent call last):\n",
      "Traceback (most recent call last):\n",
      "  File \"/opt/anaconda/lib/python3.5/multiprocessing/queues.py\", line 337, in get\n",
      "    return ForkingPickler.loads(res)\n",
      "  File \"/opt/anaconda/lib/python3.5/multiprocessing/process.py\", line 252, in _bootstrap\n",
      "    self.run()\n",
      "  File \"/opt/anaconda/lib/python3.5/multiprocessing/queues.py\", line 337, in get\n",
      "    return ForkingPickler.loads(res)\n",
      "Traceback (most recent call last):\n",
      "Traceback (most recent call last):\n",
      "  File \"/opt/anaconda/lib/python3.5/multiprocessing/process.py\", line 252, in _bootstrap\n",
      "    self.run()\n",
      "  File \"/opt/anaconda/lib/python3.5/multiprocessing/pool.py\", line 108, in worker\n",
      "    task = get()\n"
     ]
    },
    {
     "name": "stderr",
     "output_type": "stream",
     "text": [
      "  File \"/opt/anaconda/lib/python3.5/multiprocessing/queues.py\", line 337, in get\n",
      "    return ForkingPickler.loads(res)\n",
      "AttributeError: Can't get attribute 'run_and_dump_estimator' on <module '__main__'>\n",
      "  File \"/opt/anaconda/lib/python3.5/multiprocessing/queues.py\", line 337, in get\n",
      "    return ForkingPickler.loads(res)\n",
      "AttributeError: Can't get attribute 'run_and_dump_estimator' on <module '__main__'>\n",
      "  File \"/opt/anaconda/lib/python3.5/multiprocessing/pool.py\", line 108, in worker\n",
      "    task = get()\n",
      "  File \"/opt/anaconda/lib/python3.5/multiprocessing/process.py\", line 252, in _bootstrap\n",
      "    self.run()\n",
      "  File \"/opt/anaconda/lib/python3.5/multiprocessing/pool.py\", line 108, in worker\n",
      "    task = get()\n",
      "Traceback (most recent call last):\n",
      "  File \"/opt/anaconda/lib/python3.5/multiprocessing/process.py\", line 93, in run\n",
      "    self._target(*self._args, **self._kwargs)\n",
      "  File \"/opt/anaconda/lib/python3.5/multiprocessing/pool.py\", line 108, in worker\n",
      "    task = get()\n",
      "  File \"/opt/anaconda/lib/python3.5/multiprocessing/process.py\", line 93, in run\n",
      "    self._target(*self._args, **self._kwargs)\n",
      "  File \"/opt/anaconda/lib/python3.5/multiprocessing/process.py\", line 252, in _bootstrap\n",
      "    self.run()\n",
      "Traceback (most recent call last):\n",
      "  File \"/opt/anaconda/lib/python3.5/multiprocessing/process.py\", line 252, in _bootstrap\n",
      "    self.run()\n",
      "Traceback (most recent call last):\n",
      "  File \"/opt/anaconda/lib/python3.5/multiprocessing/queues.py\", line 337, in get\n",
      "    return ForkingPickler.loads(res)\n",
      "AttributeError: Can't get attribute 'run_and_dump_estimator' on <module '__main__'>\n",
      "Process ForkPoolWorker-291:\n",
      "  File \"/opt/anaconda/lib/python3.5/multiprocessing/process.py\", line 252, in _bootstrap\n",
      "    self.run()\n",
      "  File \"/opt/anaconda/lib/python3.5/multiprocessing/process.py\", line 252, in _bootstrap\n",
      "    self.run()\n",
      "  File \"/opt/anaconda/lib/python3.5/multiprocessing/queues.py\", line 337, in get\n",
      "    return ForkingPickler.loads(res)\n",
      "AttributeError: Can't get attribute 'run_and_dump_estimator' on <module '__main__'>\n",
      "  File \"/opt/anaconda/lib/python3.5/multiprocessing/process.py\", line 252, in _bootstrap\n",
      "    self.run()\n",
      "  File \"/opt/anaconda/lib/python3.5/multiprocessing/process.py\", line 252, in _bootstrap\n",
      "    self.run()\n",
      "  File \"/opt/anaconda/lib/python3.5/multiprocessing/process.py\", line 93, in run\n",
      "    self._target(*self._args, **self._kwargs)\n",
      "  File \"/opt/anaconda/lib/python3.5/multiprocessing/process.py\", line 93, in run\n",
      "    self._target(*self._args, **self._kwargs)\n",
      "  File \"/opt/anaconda/lib/python3.5/multiprocessing/process.py\", line 252, in _bootstrap\n",
      "    self.run()\n",
      "Traceback (most recent call last):\n",
      "  File \"/opt/anaconda/lib/python3.5/multiprocessing/process.py\", line 252, in _bootstrap\n",
      "    self.run()\n",
      "  File \"/opt/anaconda/lib/python3.5/multiprocessing/process.py\", line 93, in run\n",
      "    self._target(*self._args, **self._kwargs)\n",
      "  File \"/opt/anaconda/lib/python3.5/multiprocessing/process.py\", line 252, in _bootstrap\n",
      "    self.run()\n",
      "AttributeError: Can't get attribute 'run_and_dump_estimator' on <module '__main__'>\n",
      "  File \"/opt/anaconda/lib/python3.5/multiprocessing/process.py\", line 93, in run\n",
      "    self._target(*self._args, **self._kwargs)\n",
      "  File \"/opt/anaconda/lib/python3.5/multiprocessing/process.py\", line 252, in _bootstrap\n",
      "    self.run()\n",
      "  File \"/opt/anaconda/lib/python3.5/multiprocessing/queues.py\", line 337, in get\n",
      "    return ForkingPickler.loads(res)\n",
      "AttributeError: Can't get attribute 'run_and_dump_estimator' on <module '__main__'>\n",
      "  File \"/opt/anaconda/lib/python3.5/multiprocessing/process.py\", line 252, in _bootstrap\n",
      "    self.run()\n",
      "  File \"/opt/anaconda/lib/python3.5/multiprocessing/process.py\", line 252, in _bootstrap\n",
      "    self.run()\n",
      "  File \"/opt/anaconda/lib/python3.5/multiprocessing/process.py\", line 252, in _bootstrap\n",
      "    self.run()\n",
      "  File \"/opt/anaconda/lib/python3.5/multiprocessing/process.py\", line 252, in _bootstrap\n",
      "    self.run()\n",
      "  File \"/opt/anaconda/lib/python3.5/multiprocessing/process.py\", line 93, in run\n",
      "    self._target(*self._args, **self._kwargs)\n",
      "  File \"/opt/anaconda/lib/python3.5/multiprocessing/process.py\", line 252, in _bootstrap\n",
      "    self.run()\n",
      "AttributeError: Can't get attribute 'run_and_dump_estimator' on <module '__main__'>\n",
      "  File \"/opt/anaconda/lib/python3.5/multiprocessing/queues.py\", line 337, in get\n",
      "    return ForkingPickler.loads(res)\n",
      "AttributeError: Can't get attribute 'run_and_dump_estimator' on <module '__main__'>\n",
      "  File \"/opt/anaconda/lib/python3.5/multiprocessing/process.py\", line 93, in run\n",
      "    self._target(*self._args, **self._kwargs)\n",
      "  File \"/opt/anaconda/lib/python3.5/multiprocessing/queues.py\", line 337, in get\n",
      "    return ForkingPickler.loads(res)\n",
      "  File \"/opt/anaconda/lib/python3.5/multiprocessing/pool.py\", line 108, in worker\n",
      "    task = get()\n",
      "  File \"/opt/anaconda/lib/python3.5/multiprocessing/process.py\", line 252, in _bootstrap\n",
      "    self.run()\n",
      "  File \"/opt/anaconda/lib/python3.5/multiprocessing/queues.py\", line 337, in get\n",
      "    return ForkingPickler.loads(res)\n",
      "  File \"/opt/anaconda/lib/python3.5/multiprocessing/pool.py\", line 108, in worker\n",
      "    task = get()\n",
      "  File \"/opt/anaconda/lib/python3.5/multiprocessing/process.py\", line 93, in run\n",
      "    self._target(*self._args, **self._kwargs)\n",
      "  File \"/opt/anaconda/lib/python3.5/multiprocessing/process.py\", line 93, in run\n",
      "    self._target(*self._args, **self._kwargs)\n",
      "AttributeError: Can't get attribute 'run_and_dump_estimator' on <module '__main__'>\n",
      "  File \"/opt/anaconda/lib/python3.5/multiprocessing/process.py\", line 252, in _bootstrap\n",
      "    self.run()\n",
      "  File \"/opt/anaconda/lib/python3.5/multiprocessing/process.py\", line 252, in _bootstrap\n",
      "    self.run()\n",
      "  File \"/opt/anaconda/lib/python3.5/multiprocessing/pool.py\", line 108, in worker\n",
      "    task = get()\n",
      "  File \"/opt/anaconda/lib/python3.5/multiprocessing/process.py\", line 93, in run\n",
      "    self._target(*self._args, **self._kwargs)\n",
      "AttributeError: Can't get attribute 'run_and_dump_estimator' on <module '__main__'>\n",
      "  File \"/opt/anaconda/lib/python3.5/multiprocessing/process.py\", line 93, in run\n",
      "    self._target(*self._args, **self._kwargs)\n",
      "  File \"/opt/anaconda/lib/python3.5/multiprocessing/process.py\", line 93, in run\n",
      "    self._target(*self._args, **self._kwargs)\n",
      "  File \"/opt/anaconda/lib/python3.5/multiprocessing/process.py\", line 93, in run\n",
      "    self._target(*self._args, **self._kwargs)\n",
      "  File \"/opt/anaconda/lib/python3.5/multiprocessing/pool.py\", line 108, in worker\n",
      "    task = get()\n",
      "  File \"/opt/anaconda/lib/python3.5/multiprocessing/process.py\", line 93, in run\n",
      "    self._target(*self._args, **self._kwargs)\n",
      "  File \"/opt/anaconda/lib/python3.5/multiprocessing/pool.py\", line 108, in worker\n",
      "    task = get()\n",
      "  File \"/opt/anaconda/lib/python3.5/multiprocessing/process.py\", line 93, in run\n",
      "    self._target(*self._args, **self._kwargs)\n",
      "  File \"/opt/anaconda/lib/python3.5/multiprocessing/process.py\", line 93, in run\n",
      "    self._target(*self._args, **self._kwargs)\n",
      "  File \"/opt/anaconda/lib/python3.5/multiprocessing/process.py\", line 252, in _bootstrap\n",
      "    self.run()\n",
      "  File \"/opt/anaconda/lib/python3.5/multiprocessing/pool.py\", line 108, in worker\n",
      "    task = get()\n",
      "  File \"/opt/anaconda/lib/python3.5/multiprocessing/process.py\", line 93, in run\n",
      "    self._target(*self._args, **self._kwargs)\n",
      "Traceback (most recent call last):\n",
      "AttributeError: Can't get attribute 'run_and_dump_estimator' on <module '__main__'>\n",
      "  File \"/opt/anaconda/lib/python3.5/multiprocessing/process.py\", line 93, in run\n",
      "    self._target(*self._args, **self._kwargs)\n",
      "  File \"/opt/anaconda/lib/python3.5/multiprocessing/process.py\", line 93, in run\n",
      "    self._target(*self._args, **self._kwargs)\n",
      "  File \"/opt/anaconda/lib/python3.5/multiprocessing/process.py\", line 93, in run\n",
      "    self._target(*self._args, **self._kwargs)\n",
      "  File \"/opt/anaconda/lib/python3.5/multiprocessing/pool.py\", line 108, in worker\n",
      "    task = get()\n",
      "  File \"/opt/anaconda/lib/python3.5/multiprocessing/process.py\", line 93, in run\n",
      "    self._target(*self._args, **self._kwargs)\n",
      "  File \"/opt/anaconda/lib/python3.5/multiprocessing/process.py\", line 93, in run\n",
      "    self._target(*self._args, **self._kwargs)\n",
      "AttributeError: Can't get attribute 'run_and_dump_estimator' on <module '__main__'>\n",
      "  File \"/opt/anaconda/lib/python3.5/multiprocessing/pool.py\", line 108, in worker\n",
      "    task = get()\n"
     ]
    },
    {
     "name": "stderr",
     "output_type": "stream",
     "text": [
      "AttributeError: Can't get attribute 'run_and_dump_estimator' on <module '__main__'>\n",
      "  File \"/opt/anaconda/lib/python3.5/multiprocessing/process.py\", line 93, in run\n",
      "    self._target(*self._args, **self._kwargs)\n",
      "  File \"/opt/anaconda/lib/python3.5/multiprocessing/queues.py\", line 337, in get\n",
      "    return ForkingPickler.loads(res)\n",
      "Process ForkPoolWorker-292:\n",
      "  File \"/opt/anaconda/lib/python3.5/multiprocessing/pool.py\", line 108, in worker\n",
      "    task = get()\n",
      "  File \"/opt/anaconda/lib/python3.5/multiprocessing/queues.py\", line 337, in get\n",
      "    return ForkingPickler.loads(res)\n",
      "  File \"/opt/anaconda/lib/python3.5/multiprocessing/pool.py\", line 108, in worker\n",
      "    task = get()\n",
      "  File \"/opt/anaconda/lib/python3.5/multiprocessing/queues.py\", line 337, in get\n",
      "    return ForkingPickler.loads(res)\n",
      "  File \"/opt/anaconda/lib/python3.5/multiprocessing/process.py\", line 93, in run\n",
      "    self._target(*self._args, **self._kwargs)\n",
      "  File \"/opt/anaconda/lib/python3.5/multiprocessing/process.py\", line 93, in run\n",
      "    self._target(*self._args, **self._kwargs)\n",
      "  File \"/opt/anaconda/lib/python3.5/multiprocessing/pool.py\", line 108, in worker\n",
      "    task = get()\n",
      "  File \"/opt/anaconda/lib/python3.5/multiprocessing/pool.py\", line 108, in worker\n",
      "    task = get()\n",
      "  File \"/opt/anaconda/lib/python3.5/multiprocessing/pool.py\", line 108, in worker\n",
      "    task = get()\n",
      "  File \"/opt/anaconda/lib/python3.5/multiprocessing/queues.py\", line 337, in get\n",
      "    return ForkingPickler.loads(res)\n",
      "  File \"/opt/anaconda/lib/python3.5/multiprocessing/pool.py\", line 108, in worker\n",
      "    task = get()\n",
      "  File \"/opt/anaconda/lib/python3.5/multiprocessing/pool.py\", line 108, in worker\n",
      "    task = get()\n",
      "  File \"/opt/anaconda/lib/python3.5/multiprocessing/pool.py\", line 108, in worker\n",
      "    task = get()\n",
      "  File \"/opt/anaconda/lib/python3.5/multiprocessing/pool.py\", line 108, in worker\n",
      "    task = get()\n",
      "  File \"/opt/anaconda/lib/python3.5/multiprocessing/queues.py\", line 337, in get\n",
      "    return ForkingPickler.loads(res)\n",
      "  File \"/opt/anaconda/lib/python3.5/multiprocessing/process.py\", line 93, in run\n",
      "    self._target(*self._args, **self._kwargs)\n",
      "  File \"/opt/anaconda/lib/python3.5/multiprocessing/pool.py\", line 108, in worker\n",
      "    task = get()\n",
      "  File \"/opt/anaconda/lib/python3.5/multiprocessing/queues.py\", line 337, in get\n",
      "    return ForkingPickler.loads(res)\n",
      "  File \"/opt/anaconda/lib/python3.5/multiprocessing/process.py\", line 252, in _bootstrap\n",
      "    self.run()\n",
      "  File \"/opt/anaconda/lib/python3.5/multiprocessing/pool.py\", line 108, in worker\n",
      "    task = get()\n",
      "  File \"/opt/anaconda/lib/python3.5/multiprocessing/queues.py\", line 337, in get\n",
      "    return ForkingPickler.loads(res)\n",
      "  File \"/opt/anaconda/lib/python3.5/multiprocessing/pool.py\", line 108, in worker\n",
      "    task = get()\n",
      "  File \"/opt/anaconda/lib/python3.5/multiprocessing/pool.py\", line 108, in worker\n",
      "    task = get()\n",
      "  File \"/opt/anaconda/lib/python3.5/multiprocessing/pool.py\", line 108, in worker\n",
      "    task = get()\n",
      "  File \"/opt/anaconda/lib/python3.5/multiprocessing/queues.py\", line 337, in get\n",
      "    return ForkingPickler.loads(res)\n",
      "  File \"/opt/anaconda/lib/python3.5/multiprocessing/pool.py\", line 108, in worker\n",
      "    task = get()\n",
      "  File \"/opt/anaconda/lib/python3.5/multiprocessing/pool.py\", line 108, in worker\n",
      "    task = get()\n",
      "AttributeError: Can't get attribute 'run_and_dump_estimator' on <module '__main__'>\n",
      "  File \"/opt/anaconda/lib/python3.5/multiprocessing/queues.py\", line 337, in get\n",
      "    return ForkingPickler.loads(res)\n",
      "  File \"/opt/anaconda/lib/python3.5/multiprocessing/queues.py\", line 337, in get\n",
      "    return ForkingPickler.loads(res)\n",
      "AttributeError: Can't get attribute 'run_and_dump_estimator' on <module '__main__'>\n",
      "  File \"/opt/anaconda/lib/python3.5/multiprocessing/pool.py\", line 108, in worker\n",
      "    task = get()\n",
      "AttributeError: Can't get attribute 'run_and_dump_estimator' on <module '__main__'>\n",
      "  File \"/opt/anaconda/lib/python3.5/multiprocessing/pool.py\", line 108, in worker\n",
      "    task = get()\n",
      "  File \"/opt/anaconda/lib/python3.5/multiprocessing/queues.py\", line 337, in get\n",
      "    return ForkingPickler.loads(res)\n",
      "  File \"/opt/anaconda/lib/python3.5/multiprocessing/queues.py\", line 337, in get\n",
      "    return ForkingPickler.loads(res)\n",
      "  File \"/opt/anaconda/lib/python3.5/multiprocessing/queues.py\", line 337, in get\n",
      "    return ForkingPickler.loads(res)\n",
      "  File \"/opt/anaconda/lib/python3.5/multiprocessing/queues.py\", line 337, in get\n",
      "    return ForkingPickler.loads(res)\n",
      "AttributeError: Can't get attribute 'run_and_dump_estimator' on <module '__main__'>\n",
      "  File \"/opt/anaconda/lib/python3.5/multiprocessing/queues.py\", line 337, in get\n",
      "    return ForkingPickler.loads(res)\n",
      "  File \"/opt/anaconda/lib/python3.5/multiprocessing/queues.py\", line 337, in get\n",
      "    return ForkingPickler.loads(res)\n",
      "  File \"/opt/anaconda/lib/python3.5/multiprocessing/queues.py\", line 337, in get\n",
      "    return ForkingPickler.loads(res)\n",
      "  File \"/opt/anaconda/lib/python3.5/multiprocessing/queues.py\", line 337, in get\n",
      "    return ForkingPickler.loads(res)\n",
      "AttributeError: Can't get attribute 'run_and_dump_estimator' on <module '__main__'>\n",
      "  File \"/opt/anaconda/lib/python3.5/multiprocessing/process.py\", line 93, in run\n",
      "    self._target(*self._args, **self._kwargs)\n",
      "AttributeError: Can't get attribute 'run_and_dump_estimator' on <module '__main__'>\n",
      "  File \"/opt/anaconda/lib/python3.5/multiprocessing/queues.py\", line 337, in get\n",
      "    return ForkingPickler.loads(res)\n",
      "AttributeError: Can't get attribute 'run_and_dump_estimator' on <module '__main__'>\n",
      "  File \"/opt/anaconda/lib/python3.5/multiprocessing/queues.py\", line 337, in get\n",
      "    return ForkingPickler.loads(res)\n",
      "  File \"/opt/anaconda/lib/python3.5/multiprocessing/queues.py\", line 337, in get\n",
      "    return ForkingPickler.loads(res)\n",
      "  File \"/opt/anaconda/lib/python3.5/multiprocessing/pool.py\", line 108, in worker\n",
      "    task = get()\n",
      "AttributeError: Can't get attribute 'run_and_dump_estimator' on <module '__main__'>\n",
      "  File \"/opt/anaconda/lib/python3.5/multiprocessing/queues.py\", line 337, in get\n",
      "    return ForkingPickler.loads(res)\n",
      "  File \"/opt/anaconda/lib/python3.5/multiprocessing/queues.py\", line 337, in get\n",
      "    return ForkingPickler.loads(res)\n",
      "AttributeError: Can't get attribute 'run_and_dump_estimator' on <module '__main__'>\n",
      "  File \"/opt/anaconda/lib/python3.5/multiprocessing/queues.py\", line 337, in get\n",
      "    return ForkingPickler.loads(res)\n",
      "AttributeError: Can't get attribute 'run_and_dump_estimator' on <module '__main__'>\n",
      "  File \"/opt/anaconda/lib/python3.5/multiprocessing/queues.py\", line 337, in get\n",
      "    return ForkingPickler.loads(res)\n",
      "  File \"/opt/anaconda/lib/python3.5/multiprocessing/queues.py\", line 337, in get\n",
      "    return ForkingPickler.loads(res)\n",
      "AttributeError: Can't get attribute 'run_and_dump_estimator' on <module '__main__'>\n",
      "AttributeError: Can't get attribute 'run_and_dump_estimator' on <module '__main__'>\n",
      "AttributeError: Can't get attribute 'run_and_dump_estimator' on <module '__main__'>\n",
      "AttributeError: Can't get attribute 'run_and_dump_estimator' on <module '__main__'>\n",
      "Process ForkPoolWorker-293:\n",
      "AttributeError: Can't get attribute 'run_and_dump_estimator' on <module '__main__'>\n",
      "AttributeError: Can't get attribute 'run_and_dump_estimator' on <module '__main__'>\n",
      "AttributeError: Can't get attribute 'run_and_dump_estimator' on <module '__main__'>\n",
      "AttributeError: Can't get attribute 'run_and_dump_estimator' on <module '__main__'>\n",
      "  File \"/opt/anaconda/lib/python3.5/multiprocessing/queues.py\", line 337, in get\n",
      "    return ForkingPickler.loads(res)\n",
      "AttributeError: Can't get attribute 'run_and_dump_estimator' on <module '__main__'>\n",
      "AttributeError: Can't get attribute 'run_and_dump_estimator' on <module '__main__'>\n",
      "AttributeError: Can't get attribute 'run_and_dump_estimator' on <module '__main__'>\n",
      "Process ForkPoolWorker-290:\n",
      "AttributeError: Can't get attribute 'run_and_dump_estimator' on <module '__main__'>\n",
      "AttributeError: Can't get attribute 'run_and_dump_estimator' on <module '__main__'>\n",
      "AttributeError: Can't get attribute 'run_and_dump_estimator' on <module '__main__'>\n",
      "Traceback (most recent call last):\n",
      "AttributeError: Can't get attribute 'run_and_dump_estimator' on <module '__main__'>\n",
      "Traceback (most recent call last):\n",
      "  File \"/opt/anaconda/lib/python3.5/multiprocessing/pool.py\", line 108, in worker\n",
      "    task = get()\n"
     ]
    },
    {
     "name": "stderr",
     "output_type": "stream",
     "text": [
      "AttributeError: Can't get attribute 'run_and_dump_estimator' on <module '__main__'>\n",
      "AttributeError: Can't get attribute 'run_and_dump_estimator' on <module '__main__'>\n",
      "AttributeError: Can't get attribute 'run_and_dump_estimator' on <module '__main__'>\n",
      "Traceback (most recent call last):\n",
      "  File \"/opt/anaconda/lib/python3.5/multiprocessing/queues.py\", line 337, in get\n",
      "    return ForkingPickler.loads(res)\n",
      "  File \"/opt/anaconda/lib/python3.5/multiprocessing/process.py\", line 252, in _bootstrap\n",
      "    self.run()\n",
      "  File \"/opt/anaconda/lib/python3.5/multiprocessing/process.py\", line 252, in _bootstrap\n",
      "    self.run()\n",
      "AttributeError: Can't get attribute 'run_and_dump_estimator' on <module '__main__'>\n",
      "  File \"/opt/anaconda/lib/python3.5/multiprocessing/process.py\", line 93, in run\n",
      "    self._target(*self._args, **self._kwargs)\n",
      "  File \"/opt/anaconda/lib/python3.5/multiprocessing/process.py\", line 252, in _bootstrap\n",
      "    self.run()\n",
      "  File \"/opt/anaconda/lib/python3.5/multiprocessing/process.py\", line 93, in run\n",
      "    self._target(*self._args, **self._kwargs)\n",
      "  File \"/opt/anaconda/lib/python3.5/multiprocessing/pool.py\", line 108, in worker\n",
      "    task = get()\n",
      "  File \"/opt/anaconda/lib/python3.5/multiprocessing/process.py\", line 93, in run\n",
      "    self._target(*self._args, **self._kwargs)\n",
      "  File \"/opt/anaconda/lib/python3.5/multiprocessing/pool.py\", line 108, in worker\n",
      "    task = get()\n",
      "  File \"/opt/anaconda/lib/python3.5/multiprocessing/pool.py\", line 108, in worker\n",
      "    task = get()\n",
      "  File \"/opt/anaconda/lib/python3.5/multiprocessing/queues.py\", line 337, in get\n",
      "    return ForkingPickler.loads(res)\n",
      "  File \"/opt/anaconda/lib/python3.5/multiprocessing/queues.py\", line 337, in get\n",
      "    return ForkingPickler.loads(res)\n",
      "  File \"/opt/anaconda/lib/python3.5/multiprocessing/queues.py\", line 337, in get\n",
      "    return ForkingPickler.loads(res)\n",
      "AttributeError: Can't get attribute 'run_and_dump_estimator' on <module '__main__'>\n",
      "AttributeError: Can't get attribute 'run_and_dump_estimator' on <module '__main__'>\n",
      "AttributeError: Can't get attribute 'run_and_dump_estimator' on <module '__main__'>\n"
     ]
    },
    {
     "name": "stdout",
     "output_type": "stream",
     "text": [
      "CPU times: user 6.28 s, sys: 124 ms, total: 6.41 s\n",
      "Wall time: 1min 8s\n"
     ]
    },
    {
     "name": "stderr",
     "output_type": "stream",
     "text": [
      "/home/Abhor/.local/lib/python3.5/site-packages/sklearn/metrics/classification.py:1135: UndefinedMetricWarning: F-score is ill-defined and being set to 0.0 in labels with no predicted samples.\n",
      "  'precision', 'predicted', average, warn_for)\n"
     ]
    },
    {
     "name": "stdout",
     "output_type": "stream",
     "text": [
      "CPU times: user 11.8 s, sys: 280 ms, total: 12.1 s\n",
      "Wall time: 1min 51s\n",
      "CPU times: user 10.7 s, sys: 224 ms, total: 10.9 s\n",
      "Wall time: 1min 57s\n",
      "CPU times: user 13.8 s, sys: 248 ms, total: 14.1 s\n",
      "Wall time: 2min 17s\n",
      "CPU times: user 13.9 s, sys: 248 ms, total: 14.1 s\n",
      "Wall time: 2min 21s\n",
      "CPU times: user 12.9 s, sys: 268 ms, total: 13.2 s\n",
      "Wall time: 2min 33s\n",
      "CPU times: user 14.7 s, sys: 252 ms, total: 15 s\n",
      "Wall time: 2min 34s\n",
      "CPU times: user 12.2 s, sys: 308 ms, total: 12.5 s\n",
      "Wall time: 2min 39s\n",
      "CPU times: user 15.7 s, sys: 352 ms, total: 16.1 s\n",
      "Wall time: 3min 15s\n",
      "CPU times: user 15.6 s, sys: 368 ms, total: 16 s\n",
      "Wall time: 3min 22s\n",
      "CPU times: user 26.9 s, sys: 412 ms, total: 27.3 s\n",
      "Wall time: 4min 37s\n"
     ]
    },
    {
     "name": "stderr",
     "output_type": "stream",
     "text": [
      "/home/Abhor/.local/lib/python3.5/site-packages/sklearn/metrics/classification.py:1135: UndefinedMetricWarning: F-score is ill-defined and being set to 0.0 in labels with no predicted samples.\n",
      "  'precision', 'predicted', average, warn_for)\n"
     ]
    },
    {
     "name": "stdout",
     "output_type": "stream",
     "text": [
      "CPU times: user 15 s, sys: 232 ms, total: 15.2 s\n",
      "Wall time: 2min 50s\n",
      "CPU times: user 12.5 s, sys: 128 ms, total: 12.6 s\n",
      "Wall time: 2min 28s\n",
      "CPU times: user 21.7 s, sys: 412 ms, total: 22.1 s\n",
      "Wall time: 5min 1s\n",
      "CPU times: user 8.77 s, sys: 108 ms, total: 8.88 s\n",
      "Wall time: 1min 39s\n"
     ]
    },
    {
     "name": "stderr",
     "output_type": "stream",
     "text": [
      "/home/Abhor/.local/lib/python3.5/site-packages/sklearn/metrics/classification.py:1135: UndefinedMetricWarning: F-score is ill-defined and being set to 0.0 in labels with no predicted samples.\n",
      "  'precision', 'predicted', average, warn_for)\n"
     ]
    },
    {
     "name": "stdout",
     "output_type": "stream",
     "text": [
      "CPU times: user 16.4 s, sys: 312 ms, total: 16.7 s\n",
      "Wall time: 3min 55s\n",
      "CPU times: user 13.8 s, sys: 256 ms, total: 14 s\n",
      "Wall time: 3min 38s\n"
     ]
    },
    {
     "name": "stderr",
     "output_type": "stream",
     "text": [
      "/home/Abhor/.local/lib/python3.5/site-packages/sklearn/metrics/classification.py:1135: UndefinedMetricWarning: F-score is ill-defined and being set to 0.0 in labels with no predicted samples.\n",
      "  'precision', 'predicted', average, warn_for)\n"
     ]
    },
    {
     "name": "stdout",
     "output_type": "stream",
     "text": [
      "CPU times: user 24.9 s, sys: 500 ms, total: 25.4 s\n",
      "Wall time: 5min 53s\n"
     ]
    },
    {
     "name": "stderr",
     "output_type": "stream",
     "text": [
      "/home/Abhor/.local/lib/python3.5/site-packages/sklearn/metrics/classification.py:1135: UndefinedMetricWarning: F-score is ill-defined and being set to 0.0 in labels with no predicted samples.\n",
      "  'precision', 'predicted', average, warn_for)\n"
     ]
    },
    {
     "name": "stdout",
     "output_type": "stream",
     "text": [
      "CPU times: user 28.3 s, sys: 564 ms, total: 28.9 s\n",
      "Wall time: 6min 59s\n"
     ]
    },
    {
     "name": "stderr",
     "output_type": "stream",
     "text": [
      "/home/Abhor/.local/lib/python3.5/site-packages/sklearn/metrics/classification.py:1135: UndefinedMetricWarning: F-score is ill-defined and being set to 0.0 in labels with no predicted samples.\n",
      "  'precision', 'predicted', average, warn_for)\n"
     ]
    },
    {
     "name": "stdout",
     "output_type": "stream",
     "text": [
      "CPU times: user 34.1 s, sys: 568 ms, total: 34.6 s\n",
      "Wall time: 7min 13s\n"
     ]
    },
    {
     "name": "stderr",
     "output_type": "stream",
     "text": [
      "/home/Abhor/.local/lib/python3.5/site-packages/sklearn/metrics/classification.py:1135: UndefinedMetricWarning: F-score is ill-defined and being set to 0.0 in labels with no predicted samples.\n",
      "  'precision', 'predicted', average, warn_for)\n"
     ]
    },
    {
     "name": "stdout",
     "output_type": "stream",
     "text": [
      "CPU times: user 42.5 s, sys: 800 ms, total: 43.3 s\n",
      "Wall time: 7min 19s\n",
      "CPU times: user 1min 44s, sys: 15min 49s, total: 17min 34s\n",
      "Wall time: 7min 31s\n",
      "CPU times: user 34.3 s, sys: 508 ms, total: 34.8 s\n",
      "Wall time: 7min 33s\n"
     ]
    },
    {
     "name": "stderr",
     "output_type": "stream",
     "text": [
      "/home/Abhor/.local/lib/python3.5/site-packages/sklearn/metrics/classification.py:1135: UndefinedMetricWarning: F-score is ill-defined and being set to 0.0 in labels with no predicted samples.\n",
      "  'precision', 'predicted', average, warn_for)\n",
      "/home/Abhor/.local/lib/python3.5/site-packages/sklearn/metrics/classification.py:1135: UndefinedMetricWarning: F-score is ill-defined and being set to 0.0 in labels with no predicted samples.\n",
      "  'precision', 'predicted', average, warn_for)\n"
     ]
    },
    {
     "name": "stdout",
     "output_type": "stream",
     "text": [
      "CPU times: user 34.6 s, sys: 816 ms, total: 35.4 s\n",
      "Wall time: 7min 59s\n"
     ]
    },
    {
     "name": "stderr",
     "output_type": "stream",
     "text": [
      "/home/Abhor/.local/lib/python3.5/site-packages/sklearn/metrics/classification.py:1135: UndefinedMetricWarning: F-score is ill-defined and being set to 0.0 in labels with no predicted samples.\n",
      "  'precision', 'predicted', average, warn_for)\n"
     ]
    },
    {
     "name": "stdout",
     "output_type": "stream",
     "text": [
      "CPU times: user 20.5 s, sys: 220 ms, total: 20.7 s\n",
      "Wall time: 3min 43s\n"
     ]
    },
    {
     "name": "stderr",
     "output_type": "stream",
     "text": [
      "/home/Abhor/.local/lib/python3.5/site-packages/sklearn/metrics/classification.py:1135: UndefinedMetricWarning: F-score is ill-defined and being set to 0.0 in labels with no predicted samples.\n",
      "  'precision', 'predicted', average, warn_for)\n"
     ]
    },
    {
     "name": "stdout",
     "output_type": "stream",
     "text": [
      "CPU times: user 8.6 s, sys: 84 ms, total: 8.68 s\n",
      "Wall time: 1min 36s\n"
     ]
    },
    {
     "name": "stderr",
     "output_type": "stream",
     "text": [
      "/home/Abhor/.local/lib/python3.5/site-packages/sklearn/metrics/classification.py:1135: UndefinedMetricWarning: F-score is ill-defined and being set to 0.0 in labels with no predicted samples.\n",
      "  'precision', 'predicted', average, warn_for)\n"
     ]
    },
    {
     "name": "stdout",
     "output_type": "stream",
     "text": [
      "CPU times: user 21.7 s, sys: 216 ms, total: 21.9 s\n",
      "Wall time: 3min 16s\n",
      "CPU times: user 44 s, sys: 776 ms, total: 44.7 s\n",
      "Wall time: 9min 55s\n",
      "CPU times: user 43.8 s, sys: 512 ms, total: 44.3 s\n",
      "Wall time: 9min 57s\n",
      "CPU times: user 43.8 s, sys: 784 ms, total: 44.6 s\n",
      "Wall time: 10min 4s\n",
      "CPU times: user 44.9 s, sys: 712 ms, total: 45.6 s\n",
      "Wall time: 10min 44s\n",
      "CPU times: user 3min 13s, sys: 27min 20s, total: 30min 34s\n",
      "Wall time: 11min 8s\n",
      "CPU times: user 16.1 s, sys: 292 ms, total: 16.4 s\n",
      "Wall time: 4min 25s\n"
     ]
    },
    {
     "name": "stderr",
     "output_type": "stream",
     "text": [
      "/home/Abhor/.local/lib/python3.5/site-packages/sklearn/metrics/classification.py:1135: UndefinedMetricWarning: F-score is ill-defined and being set to 0.0 in labels with no predicted samples.\n",
      "  'precision', 'predicted', average, warn_for)\n"
     ]
    },
    {
     "name": "stdout",
     "output_type": "stream",
     "text": [
      "CPU times: user 45 s, sys: 872 ms, total: 45.9 s\n",
      "Wall time: 11min 36s\n",
      "CPU times: user 2min 26s, sys: 20min 43s, total: 23min 9s\n",
      "Wall time: 9min 16s\n",
      "CPU times: user 21.1 s, sys: 296 ms, total: 21.4 s\n",
      "Wall time: 4min 40s\n",
      "CPU times: user 1min 45s, sys: 14min 4s, total: 15min 50s\n",
      "Wall time: 11min 43s\n",
      "CPU times: user 1min 49s, sys: 15min 6s, total: 16min 55s\n",
      "Wall time: 11min 43s\n"
     ]
    },
    {
     "name": "stderr",
     "output_type": "stream",
     "text": [
      "/home/Abhor/.local/lib/python3.5/site-packages/sklearn/metrics/classification.py:1135: UndefinedMetricWarning: F-score is ill-defined and being set to 0.0 in labels with no predicted samples.\n",
      "  'precision', 'predicted', average, warn_for)\n"
     ]
    },
    {
     "name": "stdout",
     "output_type": "stream",
     "text": [
      "CPU times: user 18.1 s, sys: 136 ms, total: 18.2 s\n",
      "Wall time: 3min 21s\n",
      "CPU times: user 1min 39s, sys: 13min 20s, total: 15min\n",
      "Wall time: 11min 49s\n",
      "CPU times: user 3min 23s, sys: 29min 19s, total: 32min 42s\n",
      "Wall time: 12min 11s\n"
     ]
    },
    {
     "name": "stderr",
     "output_type": "stream",
     "text": [
      "/home/Abhor/.local/lib/python3.5/site-packages/sklearn/metrics/classification.py:1135: UndefinedMetricWarning: F-score is ill-defined and being set to 0.0 in labels with no predicted samples.\n",
      "  'precision', 'predicted', average, warn_for)\n"
     ]
    },
    {
     "name": "stdout",
     "output_type": "stream",
     "text": [
      "CPU times: user 1min 46s, sys: 14min 34s, total: 16min 20s\n",
      "Wall time: 12min 26s\n",
      "CPU times: user 17.9 s, sys: 264 ms, total: 18.1 s\n",
      "Wall time: 5min 10s\n",
      "CPU times: user 17.1 s, sys: 108 ms, total: 17.2 s\n",
      "Wall time: 2min 51s\n"
     ]
    },
    {
     "name": "stderr",
     "output_type": "stream",
     "text": [
      "/home/Abhor/.local/lib/python3.5/site-packages/sklearn/metrics/classification.py:1135: UndefinedMetricWarning: F-score is ill-defined and being set to 0.0 in labels with no predicted samples.\n",
      "  'precision', 'predicted', average, warn_for)\n"
     ]
    },
    {
     "name": "stdout",
     "output_type": "stream",
     "text": [
      "CPU times: user 2min 52s, sys: 25min 33s, total: 28min 25s\n",
      "Wall time: 13min 33s\n",
      "CPU times: user 13.8 s, sys: 0 ns, total: 13.8 s\n",
      "Wall time: 2min 38s\n"
     ]
    },
    {
     "name": "stderr",
     "output_type": "stream",
     "text": [
      "/home/Abhor/.local/lib/python3.5/site-packages/sklearn/metrics/classification.py:1135: UndefinedMetricWarning: F-score is ill-defined and being set to 0.0 in labels with no predicted samples.\n",
      "  'precision', 'predicted', average, warn_for)\n"
     ]
    },
    {
     "name": "stdout",
     "output_type": "stream",
     "text": [
      "CPU times: user 9.09 s, sys: 100 ms, total: 9.19 s\n",
      "Wall time: 2min 36s\n",
      "CPU times: user 2min 1s, sys: 15min 47s, total: 17min 48s\n",
      "Wall time: 14min 25s\n"
     ]
    },
    {
     "name": "stderr",
     "output_type": "stream",
     "text": [
      "/home/Abhor/.local/lib/python3.5/site-packages/sklearn/metrics/classification.py:1135: UndefinedMetricWarning: F-score is ill-defined and being set to 0.0 in labels with no predicted samples.\n",
      "  'precision', 'predicted', average, warn_for)\n"
     ]
    },
    {
     "name": "stdout",
     "output_type": "stream",
     "text": [
      "CPU times: user 1min 46s, sys: 13min 43s, total: 15min 30s\n",
      "Wall time: 9min 38s\n"
     ]
    },
    {
     "name": "stderr",
     "output_type": "stream",
     "text": [
      "/home/Abhor/.local/lib/python3.5/site-packages/sklearn/metrics/classification.py:1135: UndefinedMetricWarning: F-score is ill-defined and being set to 0.0 in labels with no predicted samples.\n",
      "  'precision', 'predicted', average, warn_for)\n"
     ]
    },
    {
     "name": "stdout",
     "output_type": "stream",
     "text": [
      "CPU times: user 18.1 s, sys: 352 ms, total: 18.4 s\n",
      "Wall time: 5min 29s\n"
     ]
    },
    {
     "name": "stderr",
     "output_type": "stream",
     "text": [
      "/home/Abhor/.local/lib/python3.5/site-packages/sklearn/metrics/classification.py:1135: UndefinedMetricWarning: F-score is ill-defined and being set to 0.0 in labels with no predicted samples.\n",
      "  'precision', 'predicted', average, warn_for)\n"
     ]
    },
    {
     "name": "stdout",
     "output_type": "stream",
     "text": [
      "CPU times: user 2min 27s, sys: 19min 47s, total: 22min 14s\n",
      "Wall time: 17min\n",
      "CPU times: user 22.6 s, sys: 416 ms, total: 23 s\n",
      "Wall time: 7min 14s\n"
     ]
    },
    {
     "name": "stderr",
     "output_type": "stream",
     "text": [
      "/home/Abhor/.local/lib/python3.5/site-packages/sklearn/metrics/classification.py:1135: UndefinedMetricWarning: F-score is ill-defined and being set to 0.0 in labels with no predicted samples.\n",
      "  'precision', 'predicted', average, warn_for)\n"
     ]
    },
    {
     "name": "stdout",
     "output_type": "stream",
     "text": [
      "CPU times: user 1min 31s, sys: 11min 6s, total: 12min 38s\n",
      "Wall time: 5min 40s\n"
     ]
    },
    {
     "name": "stderr",
     "output_type": "stream",
     "text": [
      "/home/Abhor/.local/lib/python3.5/site-packages/sklearn/metrics/classification.py:1135: UndefinedMetricWarning: F-score is ill-defined and being set to 0.0 in labels with no predicted samples.\n",
      "  'precision', 'predicted', average, warn_for)\n"
     ]
    },
    {
     "name": "stdout",
     "output_type": "stream",
     "text": [
      "CPU times: user 1min 51s, sys: 15min 7s, total: 16min 59s\n",
      "Wall time: 14min 25s\n"
     ]
    },
    {
     "name": "stderr",
     "output_type": "stream",
     "text": [
      "/home/Abhor/.local/lib/python3.5/site-packages/sklearn/metrics/classification.py:1135: UndefinedMetricWarning: F-score is ill-defined and being set to 0.0 in labels with no predicted samples.\n",
      "  'precision', 'predicted', average, warn_for)\n"
     ]
    },
    {
     "name": "stdout",
     "output_type": "stream",
     "text": [
      "CPU times: user 14.3 s, sys: 20 ms, total: 14.3 s\n",
      "Wall time: 4min 19s\n"
     ]
    },
    {
     "name": "stderr",
     "output_type": "stream",
     "text": [
      "/home/Abhor/.local/lib/python3.5/site-packages/sklearn/metrics/classification.py:1135: UndefinedMetricWarning: F-score is ill-defined and being set to 0.0 in labels with no predicted samples.\n",
      "  'precision', 'predicted', average, warn_for)\n"
     ]
    },
    {
     "name": "stdout",
     "output_type": "stream",
     "text": [
      "CPU times: user 25.8 s, sys: 196 ms, total: 25.9 s\n",
      "Wall time: 5min 29s\n",
      "CPU times: user 1min 24s, sys: 10min 29s, total: 11min 54s\n",
      "Wall time: 8min 17s\n"
     ]
    },
    {
     "name": "stderr",
     "output_type": "stream",
     "text": [
      "/home/Abhor/.local/lib/python3.5/site-packages/sklearn/metrics/classification.py:1135: UndefinedMetricWarning: F-score is ill-defined and being set to 0.0 in labels with no predicted samples.\n",
      "  'precision', 'predicted', average, warn_for)\n"
     ]
    },
    {
     "name": "stdout",
     "output_type": "stream",
     "text": [
      "CPU times: user 2min 5s, sys: 16min 39s, total: 18min 44s\n",
      "Wall time: 15min 58s\n",
      "CPU times: user 26.5 s, sys: 460 ms, total: 26.9 s\n",
      "Wall time: 8min 17s\n",
      "CPU times: user 5min 18s, sys: 44min 31s, total: 49min 50s\n",
      "Wall time: 19min 15s\n"
     ]
    },
    {
     "name": "stderr",
     "output_type": "stream",
     "text": [
      "/home/Abhor/.local/lib/python3.5/site-packages/sklearn/metrics/classification.py:1135: UndefinedMetricWarning: F-score is ill-defined and being set to 0.0 in labels with no predicted samples.\n",
      "  'precision', 'predicted', average, warn_for)\n"
     ]
    },
    {
     "name": "stdout",
     "output_type": "stream",
     "text": [
      "CPU times: user 1min 54s, sys: 15min 4s, total: 16min 59s\n",
      "Wall time: 10min 31s\n"
     ]
    },
    {
     "name": "stderr",
     "output_type": "stream",
     "text": [
      "/home/Abhor/.local/lib/python3.5/site-packages/sklearn/metrics/classification.py:1135: UndefinedMetricWarning: F-score is ill-defined and being set to 0.0 in labels with no predicted samples.\n",
      "  'precision', 'predicted', average, warn_for)\n"
     ]
    },
    {
     "name": "stdout",
     "output_type": "stream",
     "text": [
      "CPU times: user 4min 52s, sys: 40min 26s, total: 45min 18s\n",
      "Wall time: 18min 10s\n"
     ]
    },
    {
     "name": "stderr",
     "output_type": "stream",
     "text": [
      "/home/Abhor/.local/lib/python3.5/site-packages/sklearn/metrics/classification.py:1135: UndefinedMetricWarning: F-score is ill-defined and being set to 0.0 in labels with no predicted samples.\n",
      "  'precision', 'predicted', average, warn_for)\n"
     ]
    },
    {
     "name": "stdout",
     "output_type": "stream",
     "text": [
      "CPU times: user 3min 58s, sys: 34min 42s, total: 38min 41s\n",
      "Wall time: 20min 10s\n",
      "CPU times: user 16.6 s, sys: 0 ns, total: 16.6 s\n",
      "Wall time: 3min 2s\n"
     ]
    },
    {
     "name": "stderr",
     "output_type": "stream",
     "text": [
      "/home/Abhor/.local/lib/python3.5/site-packages/sklearn/metrics/classification.py:1135: UndefinedMetricWarning: F-score is ill-defined and being set to 0.0 in labels with no predicted samples.\n",
      "  'precision', 'predicted', average, warn_for)\n"
     ]
    },
    {
     "name": "stdout",
     "output_type": "stream",
     "text": [
      "CPU times: user 17 s, sys: 0 ns, total: 17 s\n",
      "Wall time: 4min 1s\n",
      "CPU times: user 3min 45s, sys: 32min 18s, total: 36min 3s\n",
      "Wall time: 18min 50s\n",
      "CPU times: user 3min 56s, sys: 34min 3s, total: 38min\n",
      "Wall time: 21min 35s\n"
     ]
    },
    {
     "name": "stderr",
     "output_type": "stream",
     "text": [
      "/home/Abhor/.local/lib/python3.5/site-packages/sklearn/metrics/classification.py:1135: UndefinedMetricWarning: F-score is ill-defined and being set to 0.0 in labels with no predicted samples.\n",
      "  'precision', 'predicted', average, warn_for)\n"
     ]
    },
    {
     "name": "stdout",
     "output_type": "stream",
     "text": [
      "CPU times: user 49.3 s, sys: 0 ns, total: 49.3 s\n",
      "Wall time: 9min 36s\n",
      "CPU times: user 51 s, sys: 0 ns, total: 51 s\n",
      "Wall time: 10min 8s\n",
      "CPU times: user 30.5 s, sys: 332 ms, total: 30.8 s\n",
      "Wall time: 7min 37s\n",
      "CPU times: user 37.5 s, sys: 16 ms, total: 37.5 s\n",
      "Wall time: 7min 32s\n"
     ]
    },
    {
     "name": "stderr",
     "output_type": "stream",
     "text": [
      "/home/Abhor/.local/lib/python3.5/site-packages/sklearn/metrics/classification.py:1135: UndefinedMetricWarning: F-score is ill-defined and being set to 0.0 in labels with no predicted samples.\n",
      "  'precision', 'predicted', average, warn_for)\n"
     ]
    },
    {
     "name": "stdout",
     "output_type": "stream",
     "text": [
      "CPU times: user 2min 42s, sys: 23min 6s, total: 25min 49s\n",
      "Wall time: 11min 4s\n",
      "CPU times: user 2min 20s, sys: 18min 19s, total: 20min 39s\n",
      "Wall time: 17min 30s\n"
     ]
    },
    {
     "name": "stderr",
     "output_type": "stream",
     "text": [
      "/home/Abhor/.local/lib/python3.5/site-packages/sklearn/metrics/classification.py:1135: UndefinedMetricWarning: F-score is ill-defined and being set to 0.0 in labels with no predicted samples.\n",
      "  'precision', 'predicted', average, warn_for)\n"
     ]
    },
    {
     "name": "stdout",
     "output_type": "stream",
     "text": [
      "CPU times: user 4min 37s, sys: 40min 49s, total: 45min 27s\n",
      "Wall time: 22min 56s\n",
      "CPU times: user 2min 44s, sys: 22min 4s, total: 24min 49s\n",
      "Wall time: 16min 17s\n"
     ]
    },
    {
     "name": "stderr",
     "output_type": "stream",
     "text": [
      "/home/Abhor/.local/lib/python3.5/site-packages/sklearn/metrics/classification.py:1135: UndefinedMetricWarning: F-score is ill-defined and being set to 0.0 in labels with no predicted samples.\n",
      "  'precision', 'predicted', average, warn_for)\n"
     ]
    },
    {
     "name": "stdout",
     "output_type": "stream",
     "text": [
      "CPU times: user 1min 30s, sys: 12min 46s, total: 14min 16s\n",
      "Wall time: 6min 37s\n"
     ]
    },
    {
     "name": "stderr",
     "output_type": "stream",
     "text": [
      "/home/Abhor/.local/lib/python3.5/site-packages/sklearn/metrics/classification.py:1135: UndefinedMetricWarning: F-score is ill-defined and being set to 0.0 in labels with no predicted samples.\n",
      "  'precision', 'predicted', average, warn_for)\n"
     ]
    },
    {
     "name": "stdout",
     "output_type": "stream",
     "text": [
      "CPU times: user 2min 56s, sys: 24min 53s, total: 27min 50s\n",
      "Wall time: 11min 13s\n"
     ]
    },
    {
     "name": "stderr",
     "output_type": "stream",
     "text": [
      "/home/Abhor/.local/lib/python3.5/site-packages/sklearn/metrics/classification.py:1135: UndefinedMetricWarning: F-score is ill-defined and being set to 0.0 in labels with no predicted samples.\n",
      "  'precision', 'predicted', average, warn_for)\n"
     ]
    },
    {
     "name": "stdout",
     "output_type": "stream",
     "text": [
      "CPU times: user 2min 40s, sys: 21min 56s, total: 24min 36s\n",
      "Wall time: 19min 33s\n"
     ]
    },
    {
     "name": "stderr",
     "output_type": "stream",
     "text": [
      "/home/Abhor/.local/lib/python3.5/site-packages/sklearn/metrics/classification.py:1135: UndefinedMetricWarning: F-score is ill-defined and being set to 0.0 in labels with no predicted samples.\n",
      "  'precision', 'predicted', average, warn_for)\n"
     ]
    },
    {
     "name": "stdout",
     "output_type": "stream",
     "text": [
      "CPU times: user 2min 48s, sys: 21min 20s, total: 24min 8s\n",
      "Wall time: 17min 14s\n",
      "CPU times: user 4min 11s, sys: 35min 51s, total: 40min 2s\n",
      "Wall time: 27min 35s\n"
     ]
    },
    {
     "name": "stderr",
     "output_type": "stream",
     "text": [
      "/home/Abhor/.local/lib/python3.5/site-packages/sklearn/metrics/classification.py:1135: UndefinedMetricWarning: F-score is ill-defined and being set to 0.0 in labels with no predicted samples.\n",
      "  'precision', 'predicted', average, warn_for)\n"
     ]
    },
    {
     "name": "stdout",
     "output_type": "stream",
     "text": [
      "CPU times: user 3min 20s, sys: 29min 40s, total: 33min\n",
      "Wall time: 15min 48s\n"
     ]
    },
    {
     "name": "stderr",
     "output_type": "stream",
     "text": [
      "/home/Abhor/.local/lib/python3.5/site-packages/sklearn/metrics/classification.py:1135: UndefinedMetricWarning: F-score is ill-defined and being set to 0.0 in labels with no predicted samples.\n",
      "  'precision', 'predicted', average, warn_for)\n"
     ]
    },
    {
     "name": "stdout",
     "output_type": "stream",
     "text": [
      "CPU times: user 3min 19s, sys: 26min 42s, total: 30min 1s\n",
      "Wall time: 21min 17s\n"
     ]
    },
    {
     "name": "stderr",
     "output_type": "stream",
     "text": [
      "/home/Abhor/.local/lib/python3.5/site-packages/sklearn/metrics/classification.py:1135: UndefinedMetricWarning: F-score is ill-defined and being set to 0.0 in labels with no predicted samples.\n",
      "  'precision', 'predicted', average, warn_for)\n"
     ]
    },
    {
     "name": "stdout",
     "output_type": "stream",
     "text": [
      "CPU times: user 3min 11s, sys: 26min 11s, total: 29min 22s\n",
      "Wall time: 10min 47s\n",
      "CPU times: user 6min 26s, sys: 56min 35s, total: 1h 3min 2s\n",
      "Wall time: 28min 42s\n"
     ]
    },
    {
     "name": "stderr",
     "output_type": "stream",
     "text": [
      "/home/Abhor/.local/lib/python3.5/site-packages/sklearn/metrics/classification.py:1135: UndefinedMetricWarning: F-score is ill-defined and being set to 0.0 in labels with no predicted samples.\n",
      "  'precision', 'predicted', average, warn_for)\n"
     ]
    },
    {
     "name": "stdout",
     "output_type": "stream",
     "text": [
      "CPU times: user 4min 30s, sys: 38min 7s, total: 42min 38s\n",
      "Wall time: 28min 54s\n"
     ]
    },
    {
     "name": "stderr",
     "output_type": "stream",
     "text": [
      "/home/Abhor/.local/lib/python3.5/site-packages/sklearn/metrics/classification.py:1135: UndefinedMetricWarning: F-score is ill-defined and being set to 0.0 in labels with no predicted samples.\n",
      "  'precision', 'predicted', average, warn_for)\n"
     ]
    },
    {
     "name": "stdout",
     "output_type": "stream",
     "text": [
      "CPU times: user 4min 21s, sys: 36min 26s, total: 40min 48s\n",
      "Wall time: 17min 35s\n"
     ]
    },
    {
     "name": "stderr",
     "output_type": "stream",
     "text": [
      "/home/Abhor/.local/lib/python3.5/site-packages/sklearn/metrics/classification.py:1135: UndefinedMetricWarning: F-score is ill-defined and being set to 0.0 in labels with no predicted samples.\n",
      "  'precision', 'predicted', average, warn_for)\n"
     ]
    },
    {
     "name": "stdout",
     "output_type": "stream",
     "text": [
      "CPU times: user 6min 8s, sys: 52min 49s, total: 58min 58s\n",
      "Wall time: 20min 25s\n",
      "CPU times: user 6min 34s, sys: 56min 20s, total: 1h 2min 54s\n",
      "Wall time: 32min 8s\n",
      "CPU times: user 6min 14s, sys: 53min 32s, total: 59min 47s\n",
      "Wall time: 20min 16s\n",
      "CPU times: user 5min 14s, sys: 42min 8s, total: 47min 23s\n",
      "Wall time: 27min 30s\n",
      "CPU times: user 9min 13s, sys: 1h 20min 33s, total: 1h 29min 47s\n",
      "Wall time: 34min 54s\n",
      "CPU times: user 9min 37s, sys: 1h 22min 52s, total: 1h 32min 30s\n",
      "Wall time: 35min 6s\n",
      "CPU times: user 6min 49s, sys: 1h 26s, total: 1h 7min 16s\n",
      "Wall time: 23min 25s\n",
      "CPU times: user 5min 57s, sys: 51min 44s, total: 57min 41s\n",
      "Wall time: 28min 13s\n"
     ]
    },
    {
     "name": "stderr",
     "output_type": "stream",
     "text": [
      "/home/Abhor/.local/lib/python3.5/site-packages/sklearn/metrics/classification.py:1135: UndefinedMetricWarning: F-score is ill-defined and being set to 0.0 in labels with no predicted samples.\n",
      "  'precision', 'predicted', average, warn_for)\n"
     ]
    },
    {
     "name": "stdout",
     "output_type": "stream",
     "text": [
      "CPU times: user 9min 37s, sys: 1h 25min 14s, total: 1h 34min 51s\n",
      "Wall time: 35min 21s\n",
      "CPU times: user 7min 43s, sys: 1h 6min 12s, total: 1h 13min 56s\n",
      "Wall time: 23min 3s\n",
      "CPU times: user 7min 12s, sys: 1h 47s, total: 1h 7min 59s\n",
      "Wall time: 35min 38s\n",
      "CPU times: user 8min 24s, sys: 1h 14min 31s, total: 1h 22min 56s\n",
      "Wall time: 18min 53s\n",
      "CPU times: user 7min 20s, sys: 1h 5min 47s, total: 1h 13min 7s\n",
      "Wall time: 35min 50s\n"
     ]
    }
   ],
   "source": [
    "%%time\n",
    "# run estimators\n",
    "pooly = Pool(processes = 45)\n",
    "save_folder = \"results/NN_word2vec/\"\n",
    "\n",
    "\n",
    "def run_and_dump_estimator(estimator):\n",
    "    %time estimator.fit(X_train, y_train)\n",
    "    y_fb_pred = estimator.predict(X_fb_test)\n",
    "    y_tw_pred = estimator.predict(X_tw_test)\n",
    "    accuracy_fb = accuracy_score(y_fb_test, y_fb_pred)\n",
    "    accuracy_tw = accuracy_score(y_tw_test, y_tw_pred)\n",
    "    f1_fb = f1_score(y_fb_test, y_fb_pred, average='weighted')\n",
    "    f1_tw = f1_score(y_tw_test, y_tw_pred, average='weighted')\n",
    "    confusion_fb = confusion_matrix(y_fb_test, y_fb_pred)\n",
    "    confusion_tw = confusion_matrix(y_tw_test, y_tw_pred)\n",
    "    pickle.dump({\n",
    "        'estimator': estimator,\n",
    "        \"accuracy\": [accuracy_fb, accuracy_tw],\n",
    "        'f1': [f1_fb, f1_tw],\n",
    "        'confusion': [confusion_fb, confusion_tw]\n",
    "    }, open(os.path.join(save_folder, str(f1_fb).split('.')[1]+'.pickle'), 'wb'))\n",
    "\n",
    "pooly.map_async(run_and_dump_estimator, NN_list)\n",
    "# run_and_dump_estimator(NN_list[0])\n",
    "\n",
    "pooly.close()\n",
    "pooly.join()\n",
    "\n",
    "open(os.path.join(save_folder, \"9.pickle\"), 'wb').close()"
   ]
  }
 ],
 "metadata": {
  "kernelspec": {
   "display_name": "Python 3",
   "language": "python",
   "name": "python3"
  },
  "language_info": {
   "codemirror_mode": {
    "name": "ipython",
    "version": 3
   },
   "file_extension": ".py",
   "mimetype": "text/x-python",
   "name": "python",
   "nbconvert_exporter": "python",
   "pygments_lexer": "ipython3",
   "version": "3.5.5"
  }
 },
 "nbformat": 4,
 "nbformat_minor": 2
}
