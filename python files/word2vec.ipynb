{
 "cells": [
  {
   "cell_type": "code",
   "execution_count": 1,
   "metadata": {},
   "outputs": [],
   "source": [
    "import os\n",
    "import numpy as np\n",
    "import pandas as pd\n",
    "from gensim.models import Word2Vec\n",
    "from nltk import TweetTokenizer\n",
    "from sklearn.utils import shuffle\n",
    "import pickle\n",
    "from sklearn.feature_extraction.text import TfidfVectorizer, CountVectorizer, TfidfTransformer\n",
    "from sklearn.svm import SVC\n",
    "from sklearn.metrics import confusion_matrix, accuracy_score, f1_score, precision_score, recall_score"
   ]
  },
  {
   "cell_type": "code",
   "execution_count": 22,
   "metadata": {},
   "outputs": [
    {
     "name": "stdout",
     "output_type": "stream",
     "text": [
      "CPU times: user 7.73 s, sys: 136 ms, total: 7.86 s\n",
      "Wall time: 4.93 s\n"
     ]
    }
   ],
   "source": [
    "%%time\n",
    "#string to number for class\n",
    "dic_aggression_level = {\n",
    "    'NAG' : 1,\n",
    "    'CAG' : 2,\n",
    "    'OAG' : 3\n",
    "}\n",
    "\n",
    "#train data\n",
    "train_pd = shuffle(pd.read_csv(\"train.csv\")[['Data', 'Label']], random_state=20)\n",
    "train_pd['Label_num'] = train_pd.Label.map(dic_aggression_level)\n",
    "y_train = train_pd['Label_num']\n",
    "\n",
    "#test data\n",
    "test_pd = shuffle(pd.read_csv(\"valid.csv\")[['Data', 'Label']], random_state=20)\n",
    "test_pd['Label_num'] = test_pd.Label.map(dic_aggression_level)\n",
    "y_test = test_pd['Label_num']\n",
    "\n",
    "#tokenizer for word2vec\n",
    "tokenizer = TweetTokenizer()\n",
    "def create_tokens(x):\n",
    "    return tokenizer.tokenize(x.lower())\n",
    "word2vec_model = Word2Vec(list(map(create_tokens, train_pd['Data'])), size=100, window=5, min_count=0, workers=50)\n",
    "vocabulary = set(word2vec_model.wv.vocab.keys())\n",
    "\n",
    "tfidf_model = TfidfVectorizer(vocabulary=vocabulary, tokenizer=create_tokens)\n",
    "tfidf_model.fit(train_pd['Data'])\n",
    "tfidf_values = tfidf_model.transform([\" \".join(vocabulary)]).toarray()[0]"
   ]
  },
  {
   "cell_type": "code",
   "execution_count": 20,
   "metadata": {},
   "outputs": [
    {
     "name": "stdout",
     "output_type": "stream",
     "text": [
      "['well', 'said', 'sonu', '..', 'you', 'have', 'courage', 'to', 'stand', 'against', 'dadagiri', 'of', 'muslims']\n"
     ]
    }
   ],
   "source": [
    "tokenizer = TweetTokenizer()\n",
    "def create_tokens(x):\n",
    "    return tokenizer.tokenize(x.lower())\n",
    "# print(np.array(list(map(create_tokens, train_pd['Data']))))\n",
    "print(create_tokens(train_pd['Data'][0]))"
   ]
  },
  {
   "cell_type": "code",
   "execution_count": null,
   "metadata": {
    "scrolled": true
   },
   "outputs": [],
   "source": [
    "def vectorise_sentence(sentence, method='avg'):\n",
    "    global tokenizer\n",
    "    tokens = tokenizer.tokenize(sentence)\n",
    "    #addition\n",
    "    if method=='add':\n",
    "        vector = np.array([0]*word2vec_model['hate'].shape[0])\n",
    "        for token in tokens:\n",
    "            if token in vocabulary:\n",
    "                vector = vector + word2vec_model[token]\n",
    "        return vector \n",
    "    #average\n",
    "    if method=='avg':\n",
    "        vector = np.array([0]*word2vec_model['hate'].shape[0])\n",
    "        count = 0\n",
    "        for token in tokens:\n",
    "            if token in vocabulary:\n",
    "                vector = vector + word2vec_model[token]\n",
    "                count += 1\n",
    "        if count != 0:\n",
    "            vector = vector / count\n",
    "        return vector \n",
    "    #Average of Word2Vec vectors with TF-IDF : this is one of the best approach which I will recommend. \n",
    "    #Just take the word vectors and multiply it with their TF-IDF scores. Just take the average and it \n",
    "    #will represent your sentence vector.\n",
    "    if method=='tfidf':\n",
    "        vector = np.array([0]*word2vec_model['hate'].shape[0])\n",
    "        count = 0\n",
    "        for token in tokens:\n",
    "            if token in vocabulary:\n",
    "                vector = vector + (word2vec_model[token]*tfidf_values[tfidf_model.vocabulary_[token]])\n",
    "                count += tfidf_values[tfidf_model.vocabulary_[token]]\n",
    "        if count != 0:\n",
    "            vector = vector / count\n",
    "        return vector\n",
    "\n",
    "print(vectorise_sentence(train_pd['Data'][1], 'tfidf'))"
   ]
  },
  {
   "cell_type": "code",
   "execution_count": null,
   "metadata": {},
   "outputs": [],
   "source": [
    "%%time\n",
    "svm = SVC(kernel='linear')\n",
    "method='avg'\n",
    "svm.fit([vectorise_sentence(sentence, method) for sentence in train_pd['Data']], train_pd['Label_num'])\n",
    "print(\"Fitted\")\n",
    "y_pred = svm.predict([vectorise_sentence(sentence, method) for sentence in test_pd['Data']])\n",
    "print(accuracy_score(y_test, y_pred), f1_score(y_test, y_pred, average='weighted'))\n",
    "print(confusion_matrix(y_test, y_pred))"
   ]
  },
  {
   "cell_type": "code",
   "execution_count": null,
   "metadata": {},
   "outputs": [],
   "source": [
    "%%time\n",
    "svm = SVC(kernel='linear')\n",
    "method='tfidf'\n",
    "svm.fit([vectorise_sentence(sentence, method) for sentence in train_pd['Data']], train_pd['Label_num'])\n",
    "print(\"Fitted\")\n",
    "y_pred = svm.predict([vectorise_sentence(sentence, method) for sentence in test_pd['Data']])\n",
    "print(accuracy_score(y_test, y_pred), f1_score(y_test, y_pred, average='weighted'))\n",
    "print(confusion_matrix(y_test, y_pred))"
   ]
  }
 ],
 "metadata": {
  "kernelspec": {
   "display_name": "Python 3",
   "language": "python",
   "name": "python3"
  },
  "language_info": {
   "codemirror_mode": {
    "name": "ipython",
    "version": 3
   },
   "file_extension": ".py",
   "mimetype": "text/x-python",
   "name": "python",
   "nbconvert_exporter": "python",
   "pygments_lexer": "ipython3",
   "version": "3.5.5"
  }
 },
 "nbformat": 4,
 "nbformat_minor": 2
}
