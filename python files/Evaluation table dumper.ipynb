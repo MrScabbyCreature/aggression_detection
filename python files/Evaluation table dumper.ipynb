{
 "cells": [
  {
   "cell_type": "markdown",
   "metadata": {},
   "source": [
    "# Imports"
   ]
  },
  {
   "cell_type": "code",
   "execution_count": 1,
   "metadata": {},
   "outputs": [],
   "source": [
    "import pickle\n",
    "import os"
   ]
  },
  {
   "cell_type": "markdown",
   "metadata": {},
   "source": [
    "# get all file names"
   ]
  },
  {
   "cell_type": "code",
   "execution_count": 14,
   "metadata": {
    "scrolled": true
   },
   "outputs": [
    {
     "name": "stdout",
     "output_type": "stream",
     "text": [
      "32 files found.\n"
     ]
    }
   ],
   "source": [
    "file_folders = ['results/SVM_brown/']#, 'results/SVM_updated_rbf/']\n",
    "\n",
    "all_file_paths = []\n",
    "\n",
    "for folder in file_folders:\n",
    "    for file in os.listdir(folder):\n",
    "        all_file_paths.append(os.path.join(folder,file))\n",
    "        \n",
    "for i in file_folders:\n",
    "    try:\n",
    "        all_file_paths.remove(i)\n",
    "    except Exception as e:\n",
    "        pass\n",
    "        \n",
    "del file_folders\n",
    "\n",
    "print(len(all_file_paths), \"files found.\")"
   ]
  },
  {
   "cell_type": "code",
   "execution_count": 15,
   "metadata": {},
   "outputs": [
    {
     "name": "stdout",
     "output_type": "stream",
     "text": [
      "1 of 32 done.\n",
      "2 of 32 done.\n",
      "3 of 32 done.\n",
      "4 of 32 done.\n",
      "5 of 32 done.\n",
      "6 of 32 done.\n",
      "7 of 32 done.\n",
      "8 of 32 done.\n",
      "9 of 32 done.\n",
      "10 of 32 done.\n",
      "11 of 32 done.\n",
      "12 of 32 done.\n",
      "13 of 32 done.\n",
      "14 of 32 done.\n",
      "15 of 32 done.\n",
      "16 of 32 done.\n",
      "17 of 32 done.\n",
      "18 of 32 done.\n",
      "19 of 32 done.\n",
      "20 of 32 done.\n",
      "21 of 32 done.\n",
      "22 of 32 done.\n",
      "23 of 32 done.\n",
      "24 of 32 done.\n",
      "25 of 32 done.\n",
      "26 of 32 done.\n",
      "27 of 32 done.\n",
      "28 of 32 done.\n",
      "29 of 32 done.\n",
      "30 of 32 done.\n",
      "31 of 32 done.\n",
      "32 of 32 done.\n",
      "Dumping successful\n",
      "CPU times: user 364 ms, sys: 852 ms, total: 1.22 s\n",
      "Wall time: 1.19 s\n"
     ]
    }
   ],
   "source": [
    "%%time\n",
    "\n",
    "data_dict = {\n",
    "    'Feature': [],\n",
    "    'Classifier': [],\n",
    "    'Accuracy': [],\n",
    "    'Precision': [],\n",
    "    'Recall': [],\n",
    "    'F1 score': [],\n",
    "    'Confusion Matrix': []\n",
    "}\n",
    "\n",
    "count = 0\n",
    "total = len(all_file_paths)\n",
    "\n",
    "for path in all_file_paths:\n",
    "    temp_data = pickle.load(open(path, 'rb'))\n",
    "    feature = path.split('/')[-1].split('.')[0]\n",
    "    for classifier in temp_data:\n",
    "        if classifier == 'Criteria':\n",
    "            continue\n",
    "        if classifier == 'SVM':\n",
    "            print(feature, temp_data[classifier][0], end = '\\n\\n')\n",
    "        data_dict['Feature'].append(feature)\n",
    "        data_dict['Classifier'].append(classifier)\n",
    "        for i in range(len(temp_data['Criteria'])):\n",
    "            if temp_data['Criteria'][i] == 'Model':\n",
    "                continue\n",
    "    #             print(i, temp_data['Criteria'][i], temp_data[classifier][i])\n",
    "            data_dict[temp_data['Criteria'][i]].append(temp_data[classifier][i])\n",
    "        del temp_data\n",
    "        count += 1\n",
    "        print(count, \"of\", total, \"done.\")\n",
    "\n",
    "# keys = data_dict.keys()\n",
    "# for key in keys:\n",
    "#     print('\\t{}'.format(key), end='')\n",
    "# print()\n",
    "# for i in range(len(data_dict['Feature'])):\n",
    "#     for key in keys:\n",
    "#         print('\\t{}'.format(data_dict[key][i]), end='')\n",
    "#     print()\n",
    "\n",
    "pickle.dump(data_dict, open(\"metric_table_brown.pickle\", 'wb'))\n",
    "print(\"Dumping successful\")"
   ]
  }
 ],
 "metadata": {
  "kernelspec": {
   "display_name": "Python 3",
   "language": "python",
   "name": "python3"
  },
  "language_info": {
   "codemirror_mode": {
    "name": "ipython",
    "version": 3
   },
   "file_extension": ".py",
   "mimetype": "text/x-python",
   "name": "python",
   "nbconvert_exporter": "python",
   "pygments_lexer": "ipython3",
   "version": "3.5.5"
  }
 },
 "nbformat": 4,
 "nbformat_minor": 2
}
